{
  "nbformat": 4,
  "nbformat_minor": 0,
  "metadata": {
    "colab": {
      "name": "Assignment_2",
      "provenance": [],
      "authorship_tag": "ABX9TyPKLmIk/DaqWGRRoQB22jqy",
      "include_colab_link": true
    },
    "kernelspec": {
      "name": "python3",
      "display_name": "Python 3"
    },
    "language_info": {
      "name": "python"
    }
  },
  "cells": [
    {
      "cell_type": "markdown",
      "metadata": {
        "id": "view-in-github",
        "colab_type": "text"
      },
      "source": [
        "<a href=\"https://colab.research.google.com/github/WilfredAngeloPascua/Linear-Algebra/blob/main/Assignment_2.ipynb\" target=\"_parent\"><img src=\"https://colab.research.google.com/assets/colab-badge.svg\" alt=\"Open In Colab\"/></a>"
      ]
    },
    {
      "cell_type": "markdown",
      "metadata": {
        "id": "zibQdi0abcSF"
      },
      "source": [
        "# **Welcome to Python Fundamentals**\n",
        "## **In this module, we are going to establish our skills in Python Programming. in this notebook we are going to cover:**\n",
        "*   Variables and  Data Types\n",
        "*   Operation\n",
        "*   Input and Output Operation\n",
        "*   Logic Control\n",
        "*   Interables\n",
        "*   Functions\n",
        "\n",
        "\n",
        "\n",
        "\n",
        "\n",
        "\n"
      ]
    },
    {
      "cell_type": "markdown",
      "metadata": {
        "id": "QoMeExqNboEf"
      },
      "source": [
        "## **Variables and Data**"
      ]
    },
    {
      "cell_type": "code",
      "metadata": {
        "colab": {
          "base_uri": "https://localhost:8080/"
        },
        "id": "iZtxyFpycuIo",
        "outputId": "c479d6ca-9304-4d28-93c7-1139e1deb7d7"
      },
      "source": [
        "x = 3 \n",
        "a, b = 3, -2\n",
        "b"
      ],
      "execution_count": 1,
      "outputs": [
        {
          "output_type": "execute_result",
          "data": {
            "text/plain": [
              "-2"
            ]
          },
          "metadata": {},
          "execution_count": 1
        }
      ]
    },
    {
      "cell_type": "code",
      "metadata": {
        "colab": {
          "base_uri": "https://localhost:8080/"
        },
        "id": "V5p9WXtFd0oc",
        "outputId": "55bc8ecb-f8c7-4d79-89c4-5a2b8da64d0b"
      },
      "source": [
        "type (x)"
      ],
      "execution_count": 2,
      "outputs": [
        {
          "output_type": "execute_result",
          "data": {
            "text/plain": [
              "int"
            ]
          },
          "metadata": {},
          "execution_count": 2
        }
      ]
    },
    {
      "cell_type": "code",
      "metadata": {
        "colab": {
          "base_uri": "https://localhost:8080/"
        },
        "id": "vCj46q3neCCN",
        "outputId": "f5ddf8ef-c866-4664-c409-dda5254a7938"
      },
      "source": [
        "y = 3.0\n",
        "type (y)"
      ],
      "execution_count": 3,
      "outputs": [
        {
          "output_type": "execute_result",
          "data": {
            "text/plain": [
              "float"
            ]
          },
          "metadata": {},
          "execution_count": 3
        }
      ]
    },
    {
      "cell_type": "code",
      "metadata": {
        "colab": {
          "base_uri": "https://localhost:8080/"
        },
        "id": "XKKgMfkCeIP-",
        "outputId": "ade98d21-b0e2-4098-a6d4-64568cf9d3b0"
      },
      "source": [
        "x = float (x)\n",
        "type (x)\n",
        "x"
      ],
      "execution_count": 4,
      "outputs": [
        {
          "output_type": "execute_result",
          "data": {
            "text/plain": [
              "3.0"
            ]
          },
          "metadata": {},
          "execution_count": 4
        }
      ]
    },
    {
      "cell_type": "code",
      "metadata": {
        "colab": {
          "base_uri": "https://localhost:8080/"
        },
        "id": "eHd4iTexeUmI",
        "outputId": "2d6a8cac-649f-4259-c13f-e9c7e035b503"
      },
      "source": [
        "s, t, u = \"1\", \"3\", \"three\"\n",
        "type (u)"
      ],
      "execution_count": 5,
      "outputs": [
        {
          "output_type": "execute_result",
          "data": {
            "text/plain": [
              "str"
            ]
          },
          "metadata": {},
          "execution_count": 5
        }
      ]
    },
    {
      "cell_type": "markdown",
      "metadata": {
        "id": "PJam3saqezte"
      },
      "source": [
        "### Operations"
      ]
    },
    {
      "cell_type": "markdown",
      "metadata": {
        "id": "VW7KujZee7QJ"
      },
      "source": [
        "##Arithmitic"
      ]
    },
    {
      "cell_type": "code",
      "metadata": {
        "id": "VUVjRHwLe-fI"
      },
      "source": [
        "w, x, y, z= 4.0, -3.0, 1, -32"
      ],
      "execution_count": 6,
      "outputs": []
    },
    {
      "cell_type": "code",
      "metadata": {
        "colab": {
          "base_uri": "https://localhost:8080/"
        },
        "id": "oQ6LFLYJfLKc",
        "outputId": "5586c16a-cb0a-4588-b26d-dea42b20fa56"
      },
      "source": [
        "### Adition\n",
        "S = w + x\n",
        "S"
      ],
      "execution_count": 7,
      "outputs": [
        {
          "output_type": "execute_result",
          "data": {
            "text/plain": [
              "1.0"
            ]
          },
          "metadata": {},
          "execution_count": 7
        }
      ]
    },
    {
      "cell_type": "code",
      "metadata": {
        "colab": {
          "base_uri": "https://localhost:8080/"
        },
        "id": "hmFFVtvvfd1S",
        "outputId": "895d6b37-3177-4991-b953-3fdf723bf261"
      },
      "source": [
        "### Subtraction\n",
        "D = y - z\n",
        "D"
      ],
      "execution_count": 8,
      "outputs": [
        {
          "output_type": "execute_result",
          "data": {
            "text/plain": [
              "33"
            ]
          },
          "metadata": {},
          "execution_count": 8
        }
      ]
    },
    {
      "cell_type": "code",
      "metadata": {
        "colab": {
          "base_uri": "https://localhost:8080/"
        },
        "id": "DLhTkoGCfzjB",
        "outputId": "9fab1170-ad5c-4511-e3b0-9930152187f3"
      },
      "source": [
        "### Multiplictation\n",
        "P = w * z\n",
        "P"
      ],
      "execution_count": 9,
      "outputs": [
        {
          "output_type": "execute_result",
          "data": {
            "text/plain": [
              "-128.0"
            ]
          },
          "metadata": {},
          "execution_count": 9
        }
      ]
    },
    {
      "cell_type": "code",
      "metadata": {
        "colab": {
          "base_uri": "https://localhost:8080/"
        },
        "id": "l9EVvcXof8or",
        "outputId": "30872ffd-5a86-41c4-e9bc-b3d0f64bca44"
      },
      "source": [
        "### Division\n",
        "Q = y / x\n",
        "Q"
      ],
      "execution_count": 10,
      "outputs": [
        {
          "output_type": "execute_result",
          "data": {
            "text/plain": [
              "-0.3333333333333333"
            ]
          },
          "metadata": {},
          "execution_count": 10
        }
      ]
    },
    {
      "cell_type": "code",
      "metadata": {
        "colab": {
          "base_uri": "https://localhost:8080/"
        },
        "id": "QFXU56PLgMT7",
        "outputId": "d4d71ac4-8a73-4edc-dbda-64773259195d"
      },
      "source": [
        "### Floor Division\n",
        "Qf = w // z\n",
        "Qf"
      ],
      "execution_count": 11,
      "outputs": [
        {
          "output_type": "execute_result",
          "data": {
            "text/plain": [
              "-1.0"
            ]
          },
          "metadata": {},
          "execution_count": 11
        }
      ]
    },
    {
      "cell_type": "code",
      "metadata": {
        "colab": {
          "base_uri": "https://localhost:8080/"
        },
        "id": "CxHe4F4ZgV7d",
        "outputId": "773b78b0-981c-4b38-943a-ea84c7146bd4"
      },
      "source": [
        "### Exponential\n",
        "E = w ** w\n",
        "E"
      ],
      "execution_count": 12,
      "outputs": [
        {
          "output_type": "execute_result",
          "data": {
            "text/plain": [
              "256.0"
            ]
          },
          "metadata": {},
          "execution_count": 12
        }
      ]
    },
    {
      "cell_type": "code",
      "metadata": {
        "colab": {
          "base_uri": "https://localhost:8080/"
        },
        "id": "Hcr79EjMghQi",
        "outputId": "00686ff7-1148-40ae-ffca-82e07e2644a7"
      },
      "source": [
        "### Modulo\n",
        "mod = z % x\n",
        "mod"
      ],
      "execution_count": 13,
      "outputs": [
        {
          "output_type": "execute_result",
          "data": {
            "text/plain": [
              "-2.0"
            ]
          },
          "metadata": {},
          "execution_count": 13
        }
      ]
    },
    {
      "cell_type": "markdown",
      "metadata": {
        "id": "Jo0XkIF9gyXP"
      },
      "source": [
        "## **Assignment Operations**"
      ]
    },
    {
      "cell_type": "code",
      "metadata": {
        "id": "r8pWIn79hLoG"
      },
      "source": [
        "A, B, C, D, E = 0, 100, 2, 1, 2"
      ],
      "execution_count": 14,
      "outputs": []
    },
    {
      "cell_type": "code",
      "metadata": {
        "colab": {
          "base_uri": "https://localhost:8080/"
        },
        "id": "obdppt9ahNNG",
        "outputId": "7ac05bf4-0eb4-490b-f618-9d1b131ad5f1"
      },
      "source": [
        "A += w\n",
        "A"
      ],
      "execution_count": 15,
      "outputs": [
        {
          "output_type": "execute_result",
          "data": {
            "text/plain": [
              "4.0"
            ]
          },
          "metadata": {},
          "execution_count": 15
        }
      ]
    },
    {
      "cell_type": "code",
      "metadata": {
        "colab": {
          "base_uri": "https://localhost:8080/"
        },
        "id": "3D4uDPc8hjLi",
        "outputId": "f26db2f9-baaa-445a-d1e3-01386346d3a3"
      },
      "source": [
        "B -= x\n",
        "B"
      ],
      "execution_count": 16,
      "outputs": [
        {
          "output_type": "execute_result",
          "data": {
            "text/plain": [
              "103.0"
            ]
          },
          "metadata": {},
          "execution_count": 16
        }
      ]
    },
    {
      "cell_type": "code",
      "metadata": {
        "colab": {
          "base_uri": "https://localhost:8080/"
        },
        "id": "7Ips3SOUhuY5",
        "outputId": "234e8bdb-4c24-4770-bad1-fb669240398f"
      },
      "source": [
        "C *= w\n",
        "C"
      ],
      "execution_count": 17,
      "outputs": [
        {
          "output_type": "execute_result",
          "data": {
            "text/plain": [
              "8.0"
            ]
          },
          "metadata": {},
          "execution_count": 17
        }
      ]
    },
    {
      "cell_type": "code",
      "metadata": {
        "colab": {
          "base_uri": "https://localhost:8080/"
        },
        "id": "CUW-WMmqh3kW",
        "outputId": "2c859a38-b9fd-41d5-cc3c-9804b949d6ac"
      },
      "source": [
        "D /= x\n",
        "D"
      ],
      "execution_count": 18,
      "outputs": [
        {
          "output_type": "execute_result",
          "data": {
            "text/plain": [
              "-0.3333333333333333"
            ]
          },
          "metadata": {},
          "execution_count": 18
        }
      ]
    },
    {
      "cell_type": "code",
      "metadata": {
        "colab": {
          "base_uri": "https://localhost:8080/"
        },
        "id": "Y4lMBm5Ah_mn",
        "outputId": "6d288390-39e4-4ce4-cb63-3f8c9eafcdad"
      },
      "source": [
        "E **= y\n",
        "E"
      ],
      "execution_count": 19,
      "outputs": [
        {
          "output_type": "execute_result",
          "data": {
            "text/plain": [
              "2"
            ]
          },
          "metadata": {},
          "execution_count": 19
        }
      ]
    },
    {
      "cell_type": "markdown",
      "metadata": {
        "id": "sYGgZYroiLQk"
      },
      "source": [
        "### Comparators"
      ]
    },
    {
      "cell_type": "code",
      "metadata": {
        "id": "m0kqYHdNiP5_"
      },
      "source": [
        "size_1, size_2, size_3 = 1, 2.0, \"1\"\n",
        "true_size = 1.0"
      ],
      "execution_count": 20,
      "outputs": []
    },
    {
      "cell_type": "code",
      "metadata": {
        "colab": {
          "base_uri": "https://localhost:8080/"
        },
        "id": "NUEn3z82iuem",
        "outputId": "e5f67f07-f1d6-4efe-b804-cff3cd65bd8b"
      },
      "source": [
        "## Equality\n",
        "size_1 == true_size"
      ],
      "execution_count": 21,
      "outputs": [
        {
          "output_type": "execute_result",
          "data": {
            "text/plain": [
              "True"
            ]
          },
          "metadata": {},
          "execution_count": 21
        }
      ]
    },
    {
      "cell_type": "code",
      "metadata": {
        "colab": {
          "base_uri": "https://localhost:8080/"
        },
        "id": "UHpYHN7di2ar",
        "outputId": "8becdb83-27fe-4df9-b141-2a6169b401ab"
      },
      "source": [
        "## Non - Equality\n",
        "size_2 != true_size"
      ],
      "execution_count": 22,
      "outputs": [
        {
          "output_type": "execute_result",
          "data": {
            "text/plain": [
              "True"
            ]
          },
          "metadata": {},
          "execution_count": 22
        }
      ]
    },
    {
      "cell_type": "code",
      "metadata": {
        "colab": {
          "base_uri": "https://localhost:8080/"
        },
        "id": "klPEK3BejDwm",
        "outputId": "75da6bed-0d43-4d38-ca39-f88a9687621a"
      },
      "source": [
        "## Inequality\n",
        "s1 = size_1 > size_2\n",
        "s2 = size_1 < size_2/2\n",
        "s3 = true_size >= size_1\n",
        "s4 = size_2 <= true_size\n",
        "s4"
      ],
      "execution_count": 23,
      "outputs": [
        {
          "output_type": "execute_result",
          "data": {
            "text/plain": [
              "False"
            ]
          },
          "metadata": {},
          "execution_count": 23
        }
      ]
    },
    {
      "cell_type": "markdown",
      "metadata": {
        "id": "hYnMH4z4j2Qw"
      },
      "source": [
        "## Logical"
      ]
    },
    {
      "cell_type": "code",
      "metadata": {
        "colab": {
          "base_uri": "https://localhost:8080/"
        },
        "id": "P5kfcb9MjPJK",
        "outputId": "a38547c9-000c-46c0-988e-0ddecd17c47f"
      },
      "source": [
        "size_1 == true_size"
      ],
      "execution_count": null,
      "outputs": [
        {
          "output_type": "execute_result",
          "data": {
            "text/plain": [
              "True"
            ]
          },
          "metadata": {},
          "execution_count": 63
        }
      ]
    },
    {
      "cell_type": "code",
      "metadata": {
        "colab": {
          "base_uri": "https://localhost:8080/"
        },
        "id": "-EDhmpYukAoh",
        "outputId": "273527fa-3294-454c-fdcf-428f0d8ccb34"
      },
      "source": [
        "size_1 is true_size"
      ],
      "execution_count": null,
      "outputs": [
        {
          "output_type": "execute_result",
          "data": {
            "text/plain": [
              "False"
            ]
          },
          "metadata": {},
          "execution_count": 64
        }
      ]
    },
    {
      "cell_type": "code",
      "metadata": {
        "colab": {
          "base_uri": "https://localhost:8080/"
        },
        "id": "WtihQNsfkFRh",
        "outputId": "87baf995-a932-46da-f2ee-86a284c59482"
      },
      "source": [
        "size_1 is not true_size"
      ],
      "execution_count": null,
      "outputs": [
        {
          "output_type": "execute_result",
          "data": {
            "text/plain": [
              "True"
            ]
          },
          "metadata": {},
          "execution_count": 65
        }
      ]
    },
    {
      "cell_type": "code",
      "metadata": {
        "colab": {
          "base_uri": "https://localhost:8080/"
        },
        "id": "y0IJctyKkfAY",
        "outputId": "3ec5f9fd-91b7-4099-8842-3c05d7661fd4"
      },
      "source": [
        "P, Q = True, False\n",
        "conj = P and Q\n",
        "conj"
      ],
      "execution_count": null,
      "outputs": [
        {
          "output_type": "execute_result",
          "data": {
            "text/plain": [
              "False"
            ]
          },
          "metadata": {},
          "execution_count": 66
        }
      ]
    },
    {
      "cell_type": "code",
      "metadata": {
        "colab": {
          "base_uri": "https://localhost:8080/"
        },
        "id": "XftPdpOpkubC",
        "outputId": "a0d6d5c1-b79e-4409-9a49-aabdca121c0d"
      },
      "source": [
        "disj = P or Q\n",
        "disj"
      ],
      "execution_count": null,
      "outputs": [
        {
          "output_type": "execute_result",
          "data": {
            "text/plain": [
              "True"
            ]
          },
          "metadata": {},
          "execution_count": 67
        }
      ]
    },
    {
      "cell_type": "code",
      "metadata": {
        "colab": {
          "base_uri": "https://localhost:8080/"
        },
        "id": "NF4nHJ9Mk1i8",
        "outputId": "1444bd3b-c5b5-4b1e-8b1e-a0d4d2827d9e"
      },
      "source": [
        "nand = not(P and Q)\n",
        "nand"
      ],
      "execution_count": null,
      "outputs": [
        {
          "output_type": "execute_result",
          "data": {
            "text/plain": [
              "True"
            ]
          },
          "metadata": {},
          "execution_count": 68
        }
      ]
    },
    {
      "cell_type": "code",
      "metadata": {
        "colab": {
          "base_uri": "https://localhost:8080/"
        },
        "id": "0Z73PQNok_r-",
        "outputId": "c40fe2bd-73f9-4812-e39b-4e7961a0762c"
      },
      "source": [
        "xor = (not P and Q) or (P and not Q)\n",
        "xor"
      ],
      "execution_count": null,
      "outputs": [
        {
          "output_type": "execute_result",
          "data": {
            "text/plain": [
              "True"
            ]
          },
          "metadata": {},
          "execution_count": 69
        }
      ]
    },
    {
      "cell_type": "markdown",
      "metadata": {
        "id": "7OGASMTZl_xR"
      },
      "source": [
        "### Input and Output"
      ]
    },
    {
      "cell_type": "code",
      "metadata": {
        "colab": {
          "base_uri": "https://localhost:8080/"
        },
        "id": "tmlx100_mDp8",
        "outputId": "a8f04137-dd41-4700-e07d-33ebe2051d62"
      },
      "source": [
        "print (\"Hello World\")"
      ],
      "execution_count": 24,
      "outputs": [
        {
          "output_type": "stream",
          "name": "stdout",
          "text": [
            "Hello World\n"
          ]
        }
      ]
    },
    {
      "cell_type": "code",
      "metadata": {
        "id": "bQl3roDYmJRs"
      },
      "source": [
        "cnt = 14000"
      ],
      "execution_count": 25,
      "outputs": []
    },
    {
      "cell_type": "code",
      "metadata": {
        "colab": {
          "base_uri": "https://localhost:8080/"
        },
        "id": "BXLac9EgmNd3",
        "outputId": "83a5dce2-ff73-412d-a6a7-08fee29c78f3"
      },
      "source": [
        "string = \"Hello World\"\n",
        "print (string, \"Current COVID19 count is: \", cnt)\n",
        "cnt += 1000"
      ],
      "execution_count": 26,
      "outputs": [
        {
          "output_type": "stream",
          "name": "stdout",
          "text": [
            "Hello World Current COVID19 count is:  14000\n"
          ]
        }
      ]
    },
    {
      "cell_type": "code",
      "metadata": {
        "id": "qmq-_lpYmSQj",
        "colab": {
          "base_uri": "https://localhost:8080/"
        },
        "outputId": "ad47690a-cbe6-4114-b79b-6d8da2a778d4"
      },
      "source": [
        "sem_grade = 69.99\n",
        "name=\"Wilfred\"\n",
        "print(\"Hello {} your semestral grade is: {}\".format(name, sem_grade) )"
      ],
      "execution_count": 27,
      "outputs": [
        {
          "output_type": "stream",
          "name": "stdout",
          "text": [
            "Hello Wilfred your semestral grade is: 69.99\n"
          ]
        }
      ]
    },
    {
      "cell_type": "code",
      "metadata": {
        "colab": {
          "base_uri": "https://localhost:8080/"
        },
        "id": "eMuJbS_DqM0q",
        "outputId": "5383a182-077f-4e46-a932-4d93d93085d3"
      },
      "source": [
        "pg, mg, fg = 0.3, 0.3, 0.4\n",
        "print(\"The weights of your semestral grades are: \\\n",
        "\\n\\t {:2%} for prelims\\\n",
        "\\n\\t {:2%} for midterms, and\\\n",
        "\\n\\t {:2%} for finals\" .format(pg, mg, fg))"
      ],
      "execution_count": 28,
      "outputs": [
        {
          "output_type": "stream",
          "name": "stdout",
          "text": [
            "The weights of your semestral grades are: \n",
            "\t 30.000000% for prelims\n",
            "\t 30.000000% for midterms, and\n",
            "\t 40.000000% for finals\n"
          ]
        }
      ]
    },
    {
      "cell_type": "code",
      "metadata": {
        "colab": {
          "base_uri": "https://localhost:8080/"
        },
        "id": "uLwPaKxKqY_5",
        "outputId": "099b7de9-fb23-4cce-d529-87b2d7bf08a0"
      },
      "source": [
        "e = input(\"Enter a Number:\")"
      ],
      "execution_count": 31,
      "outputs": [
        {
          "name": "stdout",
          "output_type": "stream",
          "text": [
            "Enter a Number:9\n"
          ]
        }
      ]
    },
    {
      "cell_type": "code",
      "metadata": {
        "colab": {
          "base_uri": "https://localhost:8080/"
        },
        "id": "gvNMR2SUs61H",
        "outputId": "29d11af4-d7f8-4908-8108-ff09a61db172"
      },
      "source": [
        "name = input(\"Ente your name:\")\n",
        "pg = input (\"Enter your Prelim Grade:\")\n",
        "mg = input(\"Enter yuor Midterm Grade\")\n",
        "fg = input(\"Enter your final grade\")\n",
        "Sem_grade=99\n",
        "print(\"Hello {}, your semstral grade is: {}\".format(name, Sem_grade))"
      ],
      "execution_count": 30,
      "outputs": [
        {
          "output_type": "stream",
          "name": "stdout",
          "text": [
            "Ente your name:\n",
            "Enter your Prelim Grade:9\n",
            "Enter yuor Midterm Grade9\n",
            "Enter your final grade9\n",
            "Hello , your semstral grade is: 99\n"
          ]
        }
      ]
    },
    {
      "cell_type": "markdown",
      "metadata": {
        "id": "2x5dVdtouVqr"
      },
      "source": [
        "### **Looping Statements**"
      ]
    },
    {
      "cell_type": "markdown",
      "metadata": {
        "id": "om0uXPnUufQv"
      },
      "source": [
        "### While"
      ]
    },
    {
      "cell_type": "code",
      "metadata": {
        "colab": {
          "base_uri": "https://localhost:8080/"
        },
        "id": "gC29iaRUueNn",
        "outputId": "e2f3d729-4c8b-4943-cc4a-eb4dc397f568"
      },
      "source": [
        "## while loops\n",
        "i, j = 1, 10\n",
        "while(i<=j):\n",
        "  print(f\"{i}\\t|\\t{j}\")\n",
        "  i += 1"
      ],
      "execution_count": null,
      "outputs": [
        {
          "output_type": "stream",
          "name": "stdout",
          "text": [
            "1\t|\t10\n",
            "2\t|\t10\n",
            "3\t|\t10\n",
            "4\t|\t10\n",
            "5\t|\t10\n",
            "6\t|\t10\n",
            "7\t|\t10\n",
            "8\t|\t10\n",
            "9\t|\t10\n",
            "10\t|\t10\n"
          ]
        }
      ]
    },
    {
      "cell_type": "markdown",
      "metadata": {
        "id": "1HVW-LR_vWlK"
      },
      "source": [
        "### **For**"
      ]
    },
    {
      "cell_type": "code",
      "metadata": {
        "colab": {
          "base_uri": "https://localhost:8080/"
        },
        "id": "lmCHnPEhvU3q",
        "outputId": "1d94779c-4bbd-476e-b88c-b4e6a0aa09a2"
      },
      "source": [
        "# for(int = 0); i++)\n",
        "#{\n",
        "    #printf(i)\n",
        "#}\n",
        "i = 0\n",
        "for i in range(11):\n",
        "  print(i)"
      ],
      "execution_count": null,
      "outputs": [
        {
          "output_type": "stream",
          "name": "stdout",
          "text": [
            "0\n",
            "1\n",
            "2\n",
            "3\n",
            "4\n",
            "5\n",
            "6\n",
            "7\n",
            "8\n",
            "9\n",
            "10\n"
          ]
        }
      ]
    },
    {
      "cell_type": "code",
      "metadata": {
        "colab": {
          "base_uri": "https://localhost:8080/"
        },
        "id": "t4-ws0GRwGpp",
        "outputId": "4060c5fd-37c4-4a15-d645-1c62c55dc90a"
      },
      "source": [
        "playlist = [\"Sugar, Were Going Down\", \"Check Yes, Juliet\", \"Dear Maria, Count Me In\"]\n",
        "print('Now Playing:\\n')\n",
        "for song in playlist:\n",
        "  print(song)"
      ],
      "execution_count": null,
      "outputs": [
        {
          "output_type": "stream",
          "name": "stdout",
          "text": [
            "Now Playing:\n",
            "\n",
            "Sugar, Were Going Down\n",
            "Check Yes, Juliet\n",
            "Dear Maria, Count Me In\n"
          ]
        }
      ]
    },
    {
      "cell_type": "markdown",
      "metadata": {
        "id": "Ae-OV8Q8xKZ8"
      },
      "source": [
        "### **Flow Control**"
      ]
    },
    {
      "cell_type": "markdown",
      "metadata": {
        "id": "KdbXsteAxQNK"
      },
      "source": [
        "Conditional Statements"
      ]
    },
    {
      "cell_type": "code",
      "metadata": {
        "colab": {
          "base_uri": "https://localhost:8080/"
        },
        "id": "Ht6MmZmLxJYN",
        "outputId": "cd34f09a-ddea-40ab-eb43-12cfbebeb186"
      },
      "source": [
        "num_1, num_2 = 14, 12\n",
        "if(num_1 == num_2):\n",
        "  print(\"pfffft\")\n",
        "elif(num_1 > num_2):\n",
        "  print(\"uwuwu\")\n",
        "else:\n",
        "  print(\"hmmmm\")"
      ],
      "execution_count": null,
      "outputs": [
        {
          "output_type": "stream",
          "name": "stdout",
          "text": [
            "uwuwu\n"
          ]
        }
      ]
    },
    {
      "cell_type": "markdown",
      "metadata": {
        "id": "VcAcGazryGbu"
      },
      "source": [
        "### Functions"
      ]
    },
    {
      "cell_type": "code",
      "metadata": {
        "id": "d60cUfvNyKuk"
      },
      "source": [
        "# void DeleteUser (int userid){\n",
        "#deleted(userid)\n",
        "#}\n",
        "def deleted_user (userid):\n",
        "  print(\"Successfully deleted user {}\".format(userid))"
      ],
      "execution_count": null,
      "outputs": []
    },
    {
      "cell_type": "code",
      "metadata": {
        "colab": {
          "base_uri": "https://localhost:8080/"
        },
        "id": "MvplBTN2zIOr",
        "outputId": "035fcffe-e648-4b29-c6b4-1a781da76fbb"
      },
      "source": [
        "userid = 2020_100101\n",
        "deleted_user(2020_100101)"
      ],
      "execution_count": null,
      "outputs": [
        {
          "output_type": "stream",
          "name": "stdout",
          "text": [
            "Successfully deleted user 2020100101\n"
          ]
        }
      ]
    },
    {
      "cell_type": "code",
      "metadata": {
        "id": "9a1ZVfcZzkge"
      },
      "source": [
        "added1, added2= 5, 6"
      ],
      "execution_count": null,
      "outputs": []
    },
    {
      "cell_type": "code",
      "metadata": {
        "id": "jE723kHkzuQg"
      },
      "source": [
        "def add(added1, added2):\n",
        "  sum = added1 + added2\n",
        "  return sum"
      ],
      "execution_count": null,
      "outputs": []
    },
    {
      "cell_type": "code",
      "metadata": {
        "colab": {
          "base_uri": "https://localhost:8080/"
        },
        "id": "e20i4gKSz9fd",
        "outputId": "ba6a4688-1e08-440c-a5ca-cb449864e38c"
      },
      "source": [
        "add(5, 4)"
      ],
      "execution_count": null,
      "outputs": [
        {
          "output_type": "execute_result",
          "data": {
            "text/plain": [
              "9"
            ]
          },
          "metadata": {},
          "execution_count": 105
        }
      ]
    }
  ]
}